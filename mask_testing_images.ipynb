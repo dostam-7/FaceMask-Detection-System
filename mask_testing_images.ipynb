{
 "cells": [
  {
   "cell_type": "code",
   "execution_count": 1,
   "metadata": {},
   "outputs": [],
   "source": [
    "from tensorflow.keras.applications.mobilenet_v2 import preprocess_input\n",
    "from tensorflow.keras.preprocessing.image import img_to_array\n",
    "from tensorflow.keras.models import load_model\n",
    "import numpy as np\n",
    "import os\n",
    "import cv2"
   ]
  },
  {
   "cell_type": "code",
   "execution_count": 2,
   "metadata": {},
   "outputs": [],
   "source": [
    "prototxtPath = os.path.sep.join([r'C:\\Users\\Dostam\\FaceMask Detection\\face_detector','deploy.prototxt'])\n",
    "weightsPath = os.path.sep.join([r'C:\\Users\\Dostam\\FaceMask Detection\\face_detector','res10_300x300_ssd_iter_140000.caffemodel'])\n"
   ]
  },
  {
   "cell_type": "code",
   "execution_count": 3,
   "metadata": {},
   "outputs": [],
   "source": [
    "net = cv2.dnn.readNet(prototxtPath,weightsPath)"
   ]
  },
  {
   "cell_type": "code",
   "execution_count": 4,
   "metadata": {},
   "outputs": [],
   "source": [
    "model = load_model(r'C:\\Users\\Dostam\\FaceMask Detection\\mask_detector.model')"
   ]
  },
  {
   "cell_type": "code",
   "execution_count": 5,
   "metadata": {},
   "outputs": [],
   "source": [
    "image = cv2.imread(r'C:\\Users\\Dostam\\FaceMask Detection\\examples\\db3.jpg')"
   ]
  },
  {
   "cell_type": "code",
   "execution_count": 6,
   "metadata": {},
   "outputs": [
    {
     "data": {
      "text/plain": [
       "array([[[ 66,  77,  81],\n",
       "        [ 66,  77,  81],\n",
       "        [ 66,  77,  81],\n",
       "        ...,\n",
       "        [ 48,  41,  48],\n",
       "        [ 48,  41,  48],\n",
       "        [ 48,  41,  48]],\n",
       "\n",
       "       [[ 66,  77,  81],\n",
       "        [ 66,  77,  81],\n",
       "        [ 66,  77,  81],\n",
       "        ...,\n",
       "        [ 48,  41,  48],\n",
       "        [ 48,  41,  48],\n",
       "        [ 48,  41,  48]],\n",
       "\n",
       "       [[ 66,  77,  81],\n",
       "        [ 66,  77,  81],\n",
       "        [ 66,  77,  81],\n",
       "        ...,\n",
       "        [ 48,  41,  48],\n",
       "        [ 48,  41,  48],\n",
       "        [ 48,  41,  48]],\n",
       "\n",
       "       ...,\n",
       "\n",
       "       [[ 30,  34,  28],\n",
       "        [ 30,  34,  28],\n",
       "        [ 32,  34,  28],\n",
       "        ...,\n",
       "        [155, 166, 174],\n",
       "        [155, 166, 174],\n",
       "        [155, 166, 174]],\n",
       "\n",
       "       [[ 30,  34,  28],\n",
       "        [ 30,  34,  28],\n",
       "        [ 32,  34,  28],\n",
       "        ...,\n",
       "        [155, 166, 174],\n",
       "        [155, 166, 174],\n",
       "        [155, 166, 174]],\n",
       "\n",
       "       [[ 30,  34,  28],\n",
       "        [ 30,  34,  28],\n",
       "        [ 32,  34,  28],\n",
       "        ...,\n",
       "        [156, 167, 175],\n",
       "        [156, 167, 175],\n",
       "        [156, 167, 175]]], dtype=uint8)"
      ]
     },
     "execution_count": 6,
     "metadata": {},
     "output_type": "execute_result"
    }
   ],
   "source": [
    "image"
   ]
  },
  {
   "cell_type": "code",
   "execution_count": 7,
   "metadata": {},
   "outputs": [
    {
     "data": {
      "text/plain": [
       "(1080, 540, 3)"
      ]
     },
     "execution_count": 7,
     "metadata": {},
     "output_type": "execute_result"
    }
   ],
   "source": [
    "image.shape"
   ]
  },
  {
   "cell_type": "code",
   "execution_count": 8,
   "metadata": {},
   "outputs": [],
   "source": [
    "(h,w)=image.shape[:2]"
   ]
  },
  {
   "cell_type": "code",
   "execution_count": 9,
   "metadata": {},
   "outputs": [
    {
     "data": {
      "text/plain": [
       "(1080, 540)"
      ]
     },
     "execution_count": 9,
     "metadata": {},
     "output_type": "execute_result"
    }
   ],
   "source": [
    "(h,w)"
   ]
  },
  {
   "cell_type": "code",
   "execution_count": 10,
   "metadata": {},
   "outputs": [],
   "source": [
    "blob = cv2.dnn.blobFromImage(image,1.0,(300,300),(104.0,177.0,123.0))"
   ]
  },
  {
   "cell_type": "code",
   "execution_count": 11,
   "metadata": {},
   "outputs": [
    {
     "data": {
      "text/plain": [
       "array([[[[ -38.,  -38.,  -38., ...,  -57.,  -56.,  -56.],\n",
       "         [ -36.,  -36.,  -36., ...,  -57.,  -56.,  -56.],\n",
       "         [ -36.,  -36.,  -36., ...,  -56.,  -56.,  -56.],\n",
       "         ...,\n",
       "         [ -72.,  -72.,  -70., ...,   50.,   48.,   48.],\n",
       "         [ -74.,  -72.,  -70., ...,   51.,   49.,   49.],\n",
       "         [ -74.,  -72.,  -70., ...,   54.,   51.,   51.]],\n",
       "\n",
       "        [[-100., -100., -100., ..., -137., -136., -136.],\n",
       "         [ -98.,  -98.,  -98., ..., -137., -136., -136.],\n",
       "         [ -98.,  -98.,  -98., ..., -136., -136., -136.],\n",
       "         ...,\n",
       "         [-145., -145., -146., ...,  -12.,  -14.,  -14.],\n",
       "         [-143., -143., -144., ...,  -11.,  -13.,  -13.],\n",
       "         [-143., -143., -144., ...,   -8.,  -11.,  -11.]],\n",
       "\n",
       "        [[ -42.,  -42.,  -42., ...,  -76.,  -75.,  -75.],\n",
       "         [ -40.,  -40.,  -40., ...,  -76.,  -75.,  -75.],\n",
       "         [ -40.,  -40.,  -40., ...,  -75.,  -75.,  -75.],\n",
       "         ...,\n",
       "         [ -97.,  -97.,  -96., ...,   50.,   48.,   48.],\n",
       "         [ -95.,  -95.,  -94., ...,   51.,   49.,   49.],\n",
       "         [ -95.,  -95.,  -94., ...,   54.,   51.,   51.]]]], dtype=float32)"
      ]
     },
     "execution_count": 11,
     "metadata": {},
     "output_type": "execute_result"
    }
   ],
   "source": [
    "blob"
   ]
  },
  {
   "cell_type": "code",
   "execution_count": 12,
   "metadata": {},
   "outputs": [
    {
     "data": {
      "text/plain": [
       "(1, 3, 300, 300)"
      ]
     },
     "execution_count": 12,
     "metadata": {},
     "output_type": "execute_result"
    }
   ],
   "source": [
    "blob.shape"
   ]
  },
  {
   "cell_type": "code",
   "execution_count": 13,
   "metadata": {},
   "outputs": [],
   "source": [
    "net.setInput(blob)\n",
    "detections = net.forward()"
   ]
  },
  {
   "cell_type": "code",
   "execution_count": 14,
   "metadata": {},
   "outputs": [
    {
     "data": {
      "text/plain": [
       "array([[[[0.        , 1.        , 0.994072  , ..., 0.05900285,\n",
       "          0.46655366, 0.27423498],\n",
       "         [0.        , 1.        , 0.12479814, ..., 0.13185099,\n",
       "          4.972652  , 0.8840864 ],\n",
       "         [0.        , 1.        , 0.12101994, ..., 4.0047607 ,\n",
       "          4.841434  , 4.9820366 ],\n",
       "         ...,\n",
       "         [0.        , 0.        , 0.        , ..., 0.        ,\n",
       "          0.        , 0.        ],\n",
       "         [0.        , 0.        , 0.        , ..., 0.        ,\n",
       "          0.        , 0.        ],\n",
       "         [0.        , 0.        , 0.        , ..., 0.        ,\n",
       "          0.        , 0.        ]]]], dtype=float32)"
      ]
     },
     "execution_count": 14,
     "metadata": {},
     "output_type": "execute_result"
    }
   ],
   "source": [
    "detections"
   ]
  },
  {
   "cell_type": "code",
   "execution_count": 15,
   "metadata": {},
   "outputs": [],
   "source": [
    "for i in range(0,detections.shape[2]):\n",
    "    confidence = detections[0,0,i,2]\n",
    "    \n",
    "    if confidence>0.5:\n",
    "        box = detections[0,0,i,3:7]*np.array([w,h,w,h])\n",
    "        (startX,startY,endX,endY) = box.astype('int')\n",
    "        \n",
    "        (startX,startY)=(max(0,startX),max(0,startY))\n",
    "        (endX,endY)=(min(w-1,endX), min(h-1,endY))\n",
    "        \n",
    "        face=image[startY:endY, startX:endX]\n",
    "        face=cv2.cvtColor(face,cv2.COLOR_BGR2RGB)\n",
    "        face=cv2.resize(face,(224,224))\n",
    "        face=img_to_array(face)\n",
    "        face=preprocess_input(face)\n",
    "        face=np.expand_dims(face,axis=0)\n",
    "        \n",
    "        (mask,withoutMask)=model.predict(face)[0]\n",
    "        \n",
    "        label = 'Mask' if mask > withoutMask else 'No Mask'\n",
    "        color=(0,255,0) if label=='Mask' else (0,0,255)\n",
    "        \n",
    "        label=\"{}: {:.2f}%\".format(label,max(mask,withoutMask)*100)\n",
    "        \n",
    "        cv2.putText(image,label,(startX,startY-10),cv2.FONT_HERSHEY_SIMPLEX,0.45,color,2)\n",
    "        cv2.rectangle(image,(startX,startY),(endX,endY),color,2)\n",
    "        \n",
    "        \n",
    "cv2.imshow(\"OutPut\",image)\n",
    "cv2.waitKey(0)\n",
    "cv2.destroyAllWindows()"
   ]
  },
  {
   "cell_type": "code",
   "execution_count": null,
   "metadata": {},
   "outputs": [],
   "source": []
  },
  {
   "cell_type": "code",
   "execution_count": null,
   "metadata": {},
   "outputs": [],
   "source": []
  }
 ],
 "metadata": {
  "kernelspec": {
   "display_name": "Python 3",
   "language": "python",
   "name": "python3"
  },
  "language_info": {
   "codemirror_mode": {
    "name": "ipython",
    "version": 3
   },
   "file_extension": ".py",
   "mimetype": "text/x-python",
   "name": "python",
   "nbconvert_exporter": "python",
   "pygments_lexer": "ipython3",
   "version": "3.8.3"
  }
 },
 "nbformat": 4,
 "nbformat_minor": 4
}
